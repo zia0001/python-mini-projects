{
 "cells": [
  {
   "cell_type": "code",
   "execution_count": 165,
   "id": "1b81548d-b388-4191-addb-62ef1355b6e9",
   "metadata": {},
   "outputs": [
    {
     "data": {
      "text/plain": [
       "1.0"
      ]
     },
     "execution_count": 165,
     "metadata": {},
     "output_type": "execute_result"
    }
   ],
   "source": [
    "import pandas as pd\n",
    "from sklearn.tree import DecisionTreeClassifier         #decision tree algoritham\n",
    "from sklearn.model_selection import train_test_split\n",
    "from sklearn.metrics import accuracy_score              #accuracy checker\n",
    "\n",
    "\n",
    "music_data = pd.read_csv('music.csv')\n",
    "X = music_data.drop(columns=['genre'])\n",
    "y = music_data['genre']\n",
    "X_train, X_test, y_train, y_test = train_test_split(X, y, test_size=0.3)\n",
    "\n",
    "\n",
    "model = DecisionTreeClassifier()            #an instance of the DecisionTreeClassifier model \n",
    "model.fit(X_train, y_train)                 #train on 70% data                      \n",
    "predictions = model.predict(X_test)         # test on remaining 30%\n",
    "\n",
    "score = accuracy_score(y_test, predictions)\n",
    "score"
   ]
  }
 ],
 "metadata": {
  "kernelspec": {
   "display_name": "Python 3 (ipykernel)",
   "language": "python",
   "name": "python3"
  },
  "language_info": {
   "codemirror_mode": {
    "name": "ipython",
    "version": 3
   },
   "file_extension": ".py",
   "mimetype": "text/x-python",
   "name": "python",
   "nbconvert_exporter": "python",
   "pygments_lexer": "ipython3",
   "version": "3.13.5"
  }
 },
 "nbformat": 4,
 "nbformat_minor": 5
}
